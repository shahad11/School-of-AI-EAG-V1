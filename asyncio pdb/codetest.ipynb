{
 "cells": [
  {
   "cell_type": "code",
   "execution_count": 1,
   "id": "2e17ad58",
   "metadata": {},
   "outputs": [
    {
     "data": {
      "text/plain": [
       "499999500000"
      ]
     },
     "execution_count": 1,
     "metadata": {},
     "output_type": "execute_result"
    }
   ],
   "source": [
    "sum([i for i in range(1000000)])"
   ]
  },
  {
   "cell_type": "code",
   "execution_count": 1,
   "id": "16c6b303",
   "metadata": {},
   "outputs": [
    {
     "name": "stdout",
     "output_type": "stream",
     "text": [
      "Requirement already satisfied: python-dotenv in c:\\users\\user\\anaconda3\\lib\\site-packages (0.21.0)\n"
     ]
    }
   ],
   "source": [
    "!pip install python-dotenv"
   ]
  },
  {
   "cell_type": "code",
   "execution_count": 9,
   "id": "94efb55c",
   "metadata": {},
   "outputs": [],
   "source": [
    "def my_first_decorator(func):\n",
    "    def wrapper():\n",
    "        print(\"Before fubction intake\")\n",
    "        func()\n",
    "        print(\"After function intake\")\n",
    "    return wrapper"
   ]
  },
  {
   "cell_type": "code",
   "execution_count": 11,
   "id": "ae4a57b1",
   "metadata": {},
   "outputs": [
    {
     "name": "stdout",
     "output_type": "stream",
     "text": [
      "Before fubction intake\n",
      "Total \n",
      "After function intake\n"
     ]
    }
   ],
   "source": [
    "@my_first_decorator\n",
    "def adder():\n",
    "    print(\"Total \")\n",
    "\n",
    "\n",
    "adder()"
   ]
  },
  {
   "cell_type": "code",
   "execution_count": null,
   "id": "0a034fff",
   "metadata": {},
   "outputs": [],
   "source": []
  }
 ],
 "metadata": {
  "kernelspec": {
   "display_name": "base",
   "language": "python",
   "name": "python3"
  },
  "language_info": {
   "codemirror_mode": {
    "name": "ipython",
    "version": 3
   },
   "file_extension": ".py",
   "mimetype": "text/x-python",
   "name": "python",
   "nbconvert_exporter": "python",
   "pygments_lexer": "ipython3",
   "version": "3.12.7"
  }
 },
 "nbformat": 4,
 "nbformat_minor": 5
}
